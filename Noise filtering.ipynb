{
 "cells": [
  {
   "cell_type": "code",
   "execution_count": 3,
   "id": "3f7a77e9",
   "metadata": {},
   "outputs": [],
   "source": [
    "import cv2\n",
    "import numpy as np"
   ]
  },
  {
   "cell_type": "code",
   "execution_count": 4,
   "id": "287c81c3",
   "metadata": {},
   "outputs": [
    {
     "data": {
      "text/plain": [
       "-1"
      ]
     },
     "execution_count": 4,
     "metadata": {},
     "output_type": "execute_result"
    }
   ],
   "source": [
    "img = cv2.imread('images/dog.png')\n",
    "cv2.imshow(\"original image\",img)\n",
    "cv2.waitKey(0)"
   ]
  },
  {
   "cell_type": "code",
   "execution_count": 15,
   "id": "14ab1696",
   "metadata": {},
   "outputs": [],
   "source": [
    "dst = np.empty_like(img) #create empty array the size of the image\n",
    "noise = cv2.randn(dst, (0,0,0), (20,20,20)) #add random img noise"
   ]
  },
  {
   "cell_type": "code",
   "execution_count": 16,
   "id": "e2b499fb",
   "metadata": {},
   "outputs": [
    {
     "data": {
      "text/plain": [
       "-1"
      ]
     },
     "execution_count": 16,
     "metadata": {},
     "output_type": "execute_result"
    }
   ],
   "source": [
    "# Pass img through noise filter to add noise\n",
    "pup_noise = cv2.addWeighted(img, 0.5, noise, 0.5, 50) \n",
    "cv2.imshow('Img', pup_noise)\n",
    "cv2.waitKey(0)"
   ]
  },
  {
   "cell_type": "code",
   "execution_count": 17,
   "id": "bdbbab75",
   "metadata": {},
   "outputs": [],
   "source": [
    "# Blurring function; kernel=15, sigma=auto\n",
    "pup_blur = cv2.GaussianBlur(pup_noise, (15, 15), 0)\n",
    "cv2.imshow('Img', pup_blur)\n",
    "cv2.waitKey(0)\n",
    "cv2.destroyAllWindows()"
   ]
  },
  {
   "cell_type": "code",
   "execution_count": null,
   "id": "1811a92d",
   "metadata": {},
   "outputs": [],
   "source": []
  },
  {
   "cell_type": "code",
   "execution_count": 18,
   "id": "851aaeb2",
   "metadata": {},
   "outputs": [
    {
     "data": {
      "text/plain": [
       "-1"
      ]
     },
     "execution_count": 18,
     "metadata": {},
     "output_type": "execute_result"
    }
   ],
   "source": [
    "img = cv2.imread('brain.png')\n",
    "cv2.imshow('Original Image', img)\n",
    "cv2.waitKey(0)"
   ]
  },
  {
   "cell_type": "code",
   "execution_count": 20,
   "id": "e3a97f6f",
   "metadata": {},
   "outputs": [],
   "source": [
    "#using Median filter\n",
    "median = cv2.medianBlur(img, 7)\n",
    "compare = np.concatenate((img, median), axis=1) #side by side comparison"
   ]
  },
  {
   "cell_type": "code",
   "execution_count": 21,
   "id": "952a2d01",
   "metadata": {},
   "outputs": [],
   "source": [
    "cv2.imshow('img', compare)\n",
    "cv2.waitKey(0)\n",
    "cv2.destroyAllWindows()"
   ]
  },
  {
   "cell_type": "code",
   "execution_count": 22,
   "id": "614f3691",
   "metadata": {},
   "outputs": [],
   "source": [
    "#using Gaussian blur\n",
    "gauss = cv2.GaussianBlur(img, (7,7), 0)\n",
    "images = np.concatenate((median, gauss), axis=1)"
   ]
  },
  {
   "cell_type": "code",
   "execution_count": 23,
   "id": "215be241",
   "metadata": {},
   "outputs": [],
   "source": [
    "cv2.imshow('img', images)\n",
    "cv2.waitKey(0)\n",
    "cv2.destroyAllWindows()"
   ]
  },
  {
   "cell_type": "code",
   "execution_count": 24,
   "id": "c206a3fd",
   "metadata": {},
   "outputs": [
    {
     "data": {
      "text/plain": [
       "-1"
      ]
     },
     "execution_count": 24,
     "metadata": {},
     "output_type": "execute_result"
    }
   ],
   "source": [
    "#using Bilateral filter\n",
    "bilateral_blur = cv2.bilateralFilter(img, 15, 75, 75)\n",
    "compare = np.concatenate((img, bilateral_blur), axis=1)\n",
    "cv2.imshow('Bilateral Blur', compare)\n",
    "cv2.waitKey(0)"
   ]
  },
  {
   "cell_type": "code",
   "execution_count": 26,
   "id": "9c0d7807",
   "metadata": {},
   "outputs": [],
   "source": [
    "#using average blur filter\n",
    "avg_blur = cv2.blur(img, (7,7))\n",
    "compare = np.concatenate((img, avg_blur), axis=1)\n",
    "cv2.imshow('Average Blur', compare)\n",
    "cv2.waitKey(0)\n",
    "cv2.destroyAllWindows()"
   ]
  },
  {
   "cell_type": "code",
   "execution_count": null,
   "id": "c63c8dbd",
   "metadata": {},
   "outputs": [],
   "source": []
  }
 ],
 "metadata": {
  "kernelspec": {
   "display_name": "Python 3 (ipykernel)",
   "language": "python",
   "name": "python3"
  },
  "language_info": {
   "codemirror_mode": {
    "name": "ipython",
    "version": 3
   },
   "file_extension": ".py",
   "mimetype": "text/x-python",
   "name": "python",
   "nbconvert_exporter": "python",
   "pygments_lexer": "ipython3",
   "version": "3.9.7"
  }
 },
 "nbformat": 4,
 "nbformat_minor": 5
}
